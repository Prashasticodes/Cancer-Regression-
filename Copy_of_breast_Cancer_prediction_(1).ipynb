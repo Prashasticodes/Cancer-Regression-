{
  "nbformat": 4,
  "nbformat_minor": 0,
  "metadata": {
    "colab": {
      "provenance": [],
      "include_colab_link": true
    },
    "kernelspec": {
      "name": "python3",
      "display_name": "Python 3"
    },
    "language_info": {
      "name": "python"
    }
  },
  "cells": [
    {
      "cell_type": "markdown",
      "metadata": {
        "id": "view-in-github",
        "colab_type": "text"
      },
      "source": [
        "<a href=\"https://colab.research.google.com/github/Prashasticodes/Cancer-Regression-/blob/main/Copy_of_breast_Cancer_prediction_(1).ipynb\" target=\"_parent\"><img src=\"https://colab.research.google.com/assets/colab-badge.svg\" alt=\"Open In Colab\"/></a>"
      ]
    },
    {
      "cell_type": "code",
      "execution_count": null,
      "metadata": {
        "colab": {
          "base_uri": "https://localhost:8080/"
        },
        "id": "Qv9nUKQsihmy",
        "outputId": "65b03294-7d38-44f5-c5a3-a470106698de"
      },
      "outputs": [
        {
          "output_type": "stream",
          "name": "stdout",
          "text": [
            "Mean Squared Error: 0.03276140350877193\n",
            "R-squared: 0.8605413691451032\n",
            "Accuracy Percentage: 86.05%\n",
            "\n",
            "Feature Importances:\n",
            "                    feature  importance\n",
            "27     worst concave points    0.269936\n",
            "7       mean concave points    0.202781\n",
            "22          worst perimeter    0.158947\n",
            "23               worst area    0.118171\n",
            "20             worst radius    0.103470\n",
            "21            worst texture    0.025475\n",
            "1              mean texture    0.021067\n",
            "26          worst concavity    0.011771\n",
            "13               area error    0.010239\n",
            "24         worst smoothness    0.008456\n",
            "4           mean smoothness    0.006652\n",
            "16          concavity error    0.006587\n",
            "19  fractal dimension error    0.005278\n",
            "3                 mean area    0.005143\n",
            "6            mean concavity    0.004656\n",
            "28           worst symmetry    0.004215\n",
            "12          perimeter error    0.003913\n",
            "11            texture error    0.003764\n",
            "10             radius error    0.003696\n",
            "18           symmetry error    0.003541\n",
            "14         smoothness error    0.003475\n",
            "17     concave points error    0.003262\n",
            "8             mean symmetry    0.002668\n",
            "2            mean perimeter    0.002537\n",
            "29  worst fractal dimension    0.002431\n",
            "9    mean fractal dimension    0.002150\n",
            "25        worst compactness    0.001836\n",
            "15        compactness error    0.001707\n",
            "0               mean radius    0.001405\n",
            "5          mean compactness    0.000774\n"
          ]
        }
      ],
      "source": [
        "# Import necessary libraries\n",
        "import pandas as pd\n",
        "from sklearn.datasets import load_breast_cancer\n",
        "from sklearn.model_selection import train_test_split\n",
        "from sklearn.ensemble import RandomForestRegressor\n",
        "from sklearn.metrics import mean_squared_error, r2_score\n",
        "\n",
        "# Step 1: Load the dataset\n",
        "cancer_data = load_breast_cancer()\n",
        "data = pd.DataFrame(data=cancer_data.data, columns=cancer_data.feature_names)\n",
        "\n",
        "# Note: The dataset does not contain a direct regression target, so for demonstration, we can create a target\n",
        "# For example, we could use the mean radius as a target for a regression task\n",
        "# Here, we assume that we're predicting the mean radius as a continuous target variable\n",
        "data['target'] = cancer_data.target  # This is typically a classification target (0 or 1)\n",
        "\n",
        "# Step 2: Feature selection\n",
        "features = data.columns[:-1]  # All columns except the target\n",
        "X = data[features]  # Features\n",
        "y = data['target']  # Target variable\n",
        "\n",
        "# Step 3: Data splitting\n",
        "X_train, X_test, y_train, y_test = train_test_split(X, y, test_size=0.2, random_state=42)\n",
        "\n",
        "# Step 4: Model training\n",
        "model = RandomForestRegressor(n_estimators=100, random_state=42)\n",
        "model.fit(X_train, y_train)\n",
        "\n",
        "# Step 5: Predictions\n",
        "y_pred = model.predict(X_test)\n",
        "\n",
        "# Step 6: Model evaluation\n",
        "mse = mean_squared_error(y_test, y_pred)\n",
        "r2 = r2_score(y_test, y_pred)\n",
        "\n",
        "# Output evaluation metrics\n",
        "print(f'Mean Squared Error: {mse}')\n",
        "print(f'R-squared: {r2}')\n",
        "\n",
        "# Calculate accuracy percentage\n",
        "accuracy_percentage = r2 * 100\n",
        "print(f'Accuracy Percentage: {accuracy_percentage:.2f}%')\n",
        "\n",
        "# Optional: Feature Importance\n",
        "importances = model.feature_importances_\n",
        "feature_importance_df = pd.DataFrame({'feature': features, 'importance': importances})\n",
        "print(\"\\nFeature Importances:\")\n",
        "print(feature_importance_df.sort_values(by='importance', ascending=False))\n",
        "\n"
      ]
    }
  ]
}